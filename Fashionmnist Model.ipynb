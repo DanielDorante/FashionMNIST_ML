{
 "cells": [
  {
   "cell_type": "code",
   "execution_count": 107,
   "id": "4aa43af6",
   "metadata": {},
   "outputs": [],
   "source": [
    "import tensorflow as tf\n",
    "import numpy as np\n",
    "import matplotlib.pyplot as plt"
   ]
  },
  {
   "cell_type": "code",
   "execution_count": 108,
   "id": "dd153920",
   "metadata": {},
   "outputs": [],
   "source": [
    "(x_train, y_train), (x_test, y_test) = tf.keras.datasets.fashion_mnist.load_data()"
   ]
  },
  {
   "cell_type": "code",
   "execution_count": 109,
   "id": "7b842f81",
   "metadata": {},
   "outputs": [],
   "source": [
    "x_train = x_train.astype('float32') / 255\n",
    "x_test = x_test.astype('float32') / 255"
   ]
  },
  {
   "cell_type": "code",
   "execution_count": 110,
   "id": "68f27c4d",
   "metadata": {},
   "outputs": [],
   "source": [
    "y_train = keras.utils.to_categorical(y_train, 10)\n",
    "y_test = keras.utils.to_categorical(y_test, 10)"
   ]
  },
  {
   "cell_type": "code",
   "execution_count": 111,
   "id": "953d3335",
   "metadata": {},
   "outputs": [],
   "source": [
    "model = keras.Sequential([\n",
    "    keras.layers.Conv2D(32, (3, 3), activation='relu', input_shape=(28, 28, 1)),\n",
    "    keras.layers.MaxPooling2D((2, 2)),\n",
    "    keras.layers.Conv2D(64, (3, 3), activation='relu'),\n",
    "    keras.layers.MaxPooling2D((2, 2)),\n",
    "    keras.layers.Flatten(),\n",
    "    keras.layers.Dense(128, activation='relu'),\n",
    "    keras.layers.Dense(10, activation='softmax')\n",
    "])"
   ]
  },
  {
   "cell_type": "code",
   "execution_count": 112,
   "id": "7e6c56fa",
   "metadata": {},
   "outputs": [],
   "source": [
    "model.compile(optimizer='adam', \n",
    "              loss='categorical_crossentropy',\n",
    "              metrics=['accuracy'])"
   ]
  },
  {
   "cell_type": "code",
   "execution_count": 113,
   "id": "643d8aa6",
   "metadata": {},
   "outputs": [
    {
     "name": "stdout",
     "output_type": "stream",
     "text": [
      "Epoch 1/10\n",
      "375/375 [==============================] - 14s 36ms/step - loss: 0.5859 - accuracy: 0.7859 - val_loss: 0.4091 - val_accuracy: 0.8581\n",
      "Epoch 2/10\n",
      "375/375 [==============================] - 13s 35ms/step - loss: 0.3815 - accuracy: 0.8607 - val_loss: 0.3629 - val_accuracy: 0.8690\n",
      "Epoch 3/10\n",
      "375/375 [==============================] - 13s 35ms/step - loss: 0.3303 - accuracy: 0.8813 - val_loss: 0.3336 - val_accuracy: 0.8823\n",
      "Epoch 4/10\n",
      "375/375 [==============================] - 13s 36ms/step - loss: 0.3004 - accuracy: 0.8917 - val_loss: 0.3070 - val_accuracy: 0.8858\n",
      "Epoch 5/10\n",
      "375/375 [==============================] - 13s 35ms/step - loss: 0.2699 - accuracy: 0.9014 - val_loss: 0.2866 - val_accuracy: 0.8981\n",
      "Epoch 6/10\n",
      "375/375 [==============================] - 13s 35ms/step - loss: 0.2552 - accuracy: 0.9069 - val_loss: 0.2893 - val_accuracy: 0.8942\n",
      "Epoch 7/10\n",
      "375/375 [==============================] - 14s 36ms/step - loss: 0.2362 - accuracy: 0.9151 - val_loss: 0.2875 - val_accuracy: 0.8960\n",
      "Epoch 8/10\n",
      "375/375 [==============================] - 13s 36ms/step - loss: 0.2209 - accuracy: 0.9197 - val_loss: 0.2576 - val_accuracy: 0.9074\n",
      "Epoch 9/10\n",
      "375/375 [==============================] - 14s 36ms/step - loss: 0.2027 - accuracy: 0.9256 - val_loss: 0.2580 - val_accuracy: 0.9077\n",
      "Epoch 10/10\n",
      "375/375 [==============================] - 14s 36ms/step - loss: 0.1893 - accuracy: 0.9316 - val_loss: 0.2639 - val_accuracy: 0.9068\n"
     ]
    },
    {
     "data": {
      "text/plain": [
       "<keras.src.callbacks.History at 0x1b3812ca5f0>"
      ]
     },
     "execution_count": 113,
     "metadata": {},
     "output_type": "execute_result"
    }
   ],
   "source": [
    "model.fit(x_train, y_train, epochs=10, batch_size=128, validation_split=0.2)"
   ]
  },
  {
   "cell_type": "code",
   "execution_count": 114,
   "id": "0da318f5",
   "metadata": {},
   "outputs": [
    {
     "name": "stdout",
     "output_type": "stream",
     "text": [
      "313/313 [==============================] - 2s 5ms/step - loss: 0.2817 - accuracy: 0.9015\n",
      "Test accuracy: 0.9014999866485596\n"
     ]
    }
   ],
   "source": [
    "test_loss, test_acc = model.evaluate(x_test, y_test)\n",
    "print('Test accuracy:', test_acc)"
   ]
  },
  {
   "cell_type": "code",
   "execution_count": 115,
   "id": "dd228b26",
   "metadata": {},
   "outputs": [],
   "source": [
    "clothes = tf.keras.datasets.fashion_mnist.load_data()\n",
    "class_labels = ['T-shirt/top', 'Trouser', 'Pullover', 'Dress', 'Coat', 'Sandal', 'Shirt', 'Sneaker', 'Bag', 'Ankle boot']\n",
    "true_label = y_test[image_index]"
   ]
  },
  {
   "cell_type": "code",
   "execution_count": 128,
   "id": "92b6aa0e",
   "metadata": {},
   "outputs": [],
   "source": [
    "image_index = 88\n",
    "test_image = x_test[image_index].reshape(1, 28, 28, 1) "
   ]
  },
  {
   "cell_type": "code",
   "execution_count": 129,
   "id": "80f16564",
   "metadata": {},
   "outputs": [
    {
     "name": "stdout",
     "output_type": "stream",
     "text": [
      "1/1 [==============================] - 0s 47ms/step\n"
     ]
    }
   ],
   "source": [
    "predictions = model.predict(test_image)\n",
    "predicted_class = np.argmax(predictions[0])"
   ]
  },
  {
   "cell_type": "code",
   "execution_count": 130,
   "id": "3caa5063",
   "metadata": {},
   "outputs": [
    {
     "data": {
      "image/png": "[encoded data removed]",
      "text/plain": [
       "<Figure size 640x480 with 1 Axes>"
      ]
     },
     "metadata": {},
     "output_type": "display_data"
    },
    {
     "name": "stdout",
     "output_type": "stream",
     "text": [
      "Predicted: T-shirt/top\n",
      "Model Accuracy:  0.9014999866485596\n"
     ]
    }
   ],
   "source": [
    "plt.imshow(x_test[image_index].reshape(28, 28), cmap='gray')\n",
    "plt.show()\n",
    "print(\"Predicted:\", class_labels[predicted_class])\n",
    "print(\"Model Accuracy: \", test_acc )"
   ]
  },
  {
   "cell_type": "code",
   "execution_count": null,
   "id": "115319a8",
   "metadata": {},
   "outputs": [],
   "source": []
  }
 ],
 "metadata": {
  "kernelspec": {
   "display_name": "Python 3 (ipykernel)",
   "language": "python",
   "name": "python3"
  },
  "language_info": {
   "codemirror_mode": {
    "name": "ipython",
    "version": 3
   },
   "file_extension": ".py",
   "mimetype": "text/x-python",
   "name": "python",
   "nbconvert_exporter": "python",
   "pygments_lexer": "ipython3",
   "version": "3.10.9"
  }
 },
 "nbformat": 4,
 "nbformat_minor": 5
}
